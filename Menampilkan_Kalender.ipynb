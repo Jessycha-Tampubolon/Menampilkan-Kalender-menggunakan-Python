{
  "nbformat": 4,
  "nbformat_minor": 0,
  "metadata": {
    "colab": {
      "name": "Menampilkan Kalender.ipynb",
      "provenance": []
    },
    "kernelspec": {
      "name": "python3",
      "display_name": "Python 3"
    },
    "language_info": {
      "name": "python"
    }
  },
  "cells": [
    {
      "cell_type": "code",
      "metadata": {
        "id": "Ek7214ugbK_3"
      },
      "source": [
        "#mengimpor kalender\n",
        "import calendar"
      ],
      "execution_count": 9,
      "outputs": []
    },
    {
      "cell_type": "code",
      "metadata": {
        "id": "V1MQ4l_aoNHG"
      },
      "source": [
        "#menentukan tahun dan bulan yang di inginkan\n",
        "yy = 2021\n",
        "mm = 12"
      ],
      "execution_count": 10,
      "outputs": []
    },
    {
      "cell_type": "code",
      "metadata": {
        "colab": {
          "base_uri": "https://localhost:8080/"
        },
        "id": "8DUe4XyioZRE",
        "outputId": "c4759e62-13d2-475b-bd18-9109db9c1256"
      },
      "source": [
        "#menampilkan kalender\n",
        "print(calendar.month(yy, mm))"
      ],
      "execution_count": 11,
      "outputs": [
        {
          "output_type": "stream",
          "name": "stdout",
          "text": [
            "   December 2021\n",
            "Mo Tu We Th Fr Sa Su\n",
            "       1  2  3  4  5\n",
            " 6  7  8  9 10 11 12\n",
            "13 14 15 16 17 18 19\n",
            "20 21 22 23 24 25 26\n",
            "27 28 29 30 31\n",
            "\n"
          ]
        }
      ]
    },
    {
      "cell_type": "code",
      "metadata": {
        "colab": {
          "base_uri": "https://localhost:8080/"
        },
        "id": "C8ZZcYdSohO7",
        "outputId": "5d8ebd9e-7527-4bbd-a962-d17aa0efb138"
      },
      "source": [
        "#mendapatkan input tahun dan bulan\n",
        "yy = int(input(\"Enter year: \"))  \n",
        "mm = int(input(\"Enter month: \"))"
      ],
      "execution_count": 12,
      "outputs": [
        {
          "name": "stdout",
          "output_type": "stream",
          "text": [
            "Enter year: 2022\n",
            "Enter month: 1\n"
          ]
        }
      ]
    },
    {
      "cell_type": "code",
      "metadata": {
        "colab": {
          "base_uri": "https://localhost:8080/"
        },
        "id": "X3sS_5Dkoukt",
        "outputId": "1e3a7c7e-6242-4ced-8844-78ae13589d1f"
      },
      "source": [
        "#menampilkan kalender\n",
        "print(calendar.month(yy, mm))"
      ],
      "execution_count": 13,
      "outputs": [
        {
          "output_type": "stream",
          "name": "stdout",
          "text": [
            "    January 2022\n",
            "Mo Tu We Th Fr Sa Su\n",
            "                1  2\n",
            " 3  4  5  6  7  8  9\n",
            "10 11 12 13 14 15 16\n",
            "17 18 19 20 21 22 23\n",
            "24 25 26 27 28 29 30\n",
            "31\n",
            "\n"
          ]
        }
      ]
    }
  ]
}